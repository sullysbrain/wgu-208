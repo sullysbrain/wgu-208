{
 "cells": [
  {
   "cell_type": "markdown",
   "id": "74822647-b47f-493a-9c70-5ba356c4a5c7",
   "metadata": {},
   "source": [
    "# D208: Predictive Modeling\n",
    "#### Scott Sullivan | 010547531\n",
    "\n",
    "### Part A"
   ]
  },
  {
   "cell_type": "code",
   "execution_count": null,
   "id": "7d8f576b-d240-4891-917a-014a1611ed81",
   "metadata": {},
   "outputs": [],
   "source": []
  }
 ],
 "metadata": {
  "kernelspec": {
   "display_name": "Python 3 (ipykernel)",
   "language": "python",
   "name": "python3"
  },
  "language_info": {
   "codemirror_mode": {
    "name": "ipython",
    "version": 3
   },
   "file_extension": ".py",
   "mimetype": "text/x-python",
   "name": "python",
   "nbconvert_exporter": "python",
   "pygments_lexer": "ipython3",
   "version": "3.10.6"
  }
 },
 "nbformat": 4,
 "nbformat_minor": 5
}
