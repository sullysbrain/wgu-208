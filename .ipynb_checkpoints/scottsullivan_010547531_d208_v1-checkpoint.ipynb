{
 "cells": [
  {
   "cell_type": "markdown",
   "id": "74822647-b47f-493a-9c70-5ba356c4a5c7",
   "metadata": {},
   "source": [
    "D208: Predictive Modeling\n",
    "=========================\n",
    "**Scott Sullivan | 010547531**\n",
    "**June 3, 2023**\n",
    "\n",
    "## Task 1\n",
    "\n",
    "## Part I: Research Question\n",
    "\n",
    "### A1: Summary Questions\n",
    "What factors influence high bandwidth (as described by the attribute “Bandwidth_GB_Year”) used by customers during a year? The author proposes to find the factors (if any), in the dataset that could potentially have an impact on bandwidth (and by extension, the health and profitability of the network). \n",
    "\n",
    "### A2: Define Goals\n",
    "The first goal of this analysis is to understand customer behavior, specifically, factors that influence their bandwidth consumption. Through this, the author will better understand the customer base and usage patterns. These insights will be able to be used to develop more effective marketing strategies to increase customer satisfaction and retention.\n",
    "\n",
    "Also, through the understanding of which factors influence 'Bandwidth_GB_Year', we can improve our product to better meet customer needs. For example, if certain attributes or behaviors correlate with higher bandwidth, the company could potentially develop new products or modify existing products or service bundles that would be aimed at this customer segment and increase revenue.\n",
    "\n",
    "\n",
    "## Part II: Method Justification\n",
    "\n",
    "### B1: Summarize four assumptions of a multiple linear regression model\n",
    "There are multple assumptions the author is making in regards to the multiple linear regression model.\n",
    "1. **Target Variable is Continuous**: We must ensure that the dependant variable (our y-axis) is continuous.\n",
    "\n",
    "2. **Multiple independent variables**: While the dependent variable must be continuous, the independent varables may be continuous or categorical means, but we must have multple (2+) variables.\n",
    "\n",
    "3. **Linear Relationship**: Our variables of interest must be exampled to have a linear relationship. This will be verified with a scatterplot.\n",
    "\n",
    "4. **No Outliers**: To avoid skewed results caused by outliers, the author will ensure that the data is cleaned to remove outliers.\n",
    "\n",
    "\n",
    "### B2: Benefits of using Python in support of various phases of the analysis\n",
    "1. Python (via Jupyter Notebooks) has a broad range of libraries and frameworks that can be utilized by the author to analyze large datasets. Additionally, it is cross-platform, thereby allowing the code to be run on multiple platforms.\n",
    "\n",
    "2. Python is also very powerful in visualization of datasets. Prior to analyzing and during the analysis, it will be beneficial to get a better view of the data, and Python allows us to graph and visualize our datasets to better extract information.\n",
    "\n",
    "### B3: Why multiple linear regression is an appropriate technique\n",
    "The author believes that making use of multiple linear regression will be appropriate for a number of reasons. Primarily, the dependent variable being used for this analysis (bandwidth) is continuous, which is a key requirement for this model. \n",
    "\n",
    "Additionally, multiple linear regression excels because while it will identify the independent and dependent variable relationships, it is also capable of quantifying the relationships. As a result, the author will be able to determine the predicted change in 'Bandwidth_GB_Year' as a direct result of a change in one of the independent variables while maintaining the other variables constant. This can be useful when planning quantifying potential course of actions."
   ]
  },
  {
   "cell_type": "markdown",
   "id": "81c14051-05f9-4a32-a800-df3d6337b61d",
   "metadata": {},
   "source": [
    "## Part III: Data Preparation\n",
    "\n",
    "### C1: Data cleaning goals & steps to clean data (includes annotated code)\n",
    "The author plans to clean the data by searching for Null values (using Pandas), outliers (using histograms), removing unnecessary data attributes, converting categorical values (such as yes or no) into numerical values (1 or 0 respectively) and finally relabeling attributes to be more descriptive.\n"
   ]
  },
  {
   "cell_type": "code",
   "execution_count": 10,
   "id": "7d8f576b-d240-4891-917a-014a1611ed81",
   "metadata": {},
   "outputs": [
    {
     "data": {
      "text/plain": [
       "(10000, 50)"
      ]
     },
     "execution_count": 10,
     "metadata": {},
     "output_type": "execute_result"
    }
   ],
   "source": [
    "import numpy as np\n",
    "import pandas as pd\n",
    "import seaborn as sns\n",
    "import plotnine as p9\n",
    "\n",
    "# Read the CSV\n",
    "df = pd.read_csv('_data/churn_clean.csv')\n",
    "\n",
    "# Copy the dataframe to RAW in case we need to come back to the raw data\n",
    "df_raw = df\n",
    "df.shape"
   ]
  },
  {
   "cell_type": "code",
   "execution_count": null,
   "id": "b56aa25b-bf65-4fa2-8dee-95c4358f8da0",
   "metadata": {},
   "outputs": [],
   "source": []
  },
  {
   "cell_type": "markdown",
   "id": "4b7a95e0-0682-4e7c-951c-5415245bb563",
   "metadata": {},
   "source": [
    "### C2:  \n",
    "Describe the dependent variable and all independent variables using summary statistics that are required to answer the research question, including a screenshot of the summary statistics output for each of these variables.\n",
    "\n",
    "### C3.  \n",
    "Generate univariate and bivariate visualizations of the distributions of the dependent and independent variables, including the dependent variable in your bivariate visualizations.\n",
    "\n",
    "### C4.  \n",
    "Describe your data transformation goals that align with your research question and the steps used to transform the data to achieve the goals, including the annotated code.\n",
    "\n",
    "### C5.  \n",
    "Provide the prepared data set as a CSV file."
   ]
  },
  {
   "cell_type": "code",
   "execution_count": 2,
   "id": "7fd74655-cfce-4c28-9cf7-7fba2ed907e3",
   "metadata": {},
   "outputs": [
    {
     "data": {
      "text/plain": [
       "(10000, 50)"
      ]
     },
     "execution_count": 2,
     "metadata": {},
     "output_type": "execute_result"
    }
   ],
   "source": [
    "df.shape"
   ]
  }
 ],
 "metadata": {
  "kernelspec": {
   "display_name": "Python 3 (ipykernel)",
   "language": "python",
   "name": "python3"
  },
  "language_info": {
   "codemirror_mode": {
    "name": "ipython",
    "version": 3
   },
   "file_extension": ".py",
   "mimetype": "text/x-python",
   "name": "python",
   "nbconvert_exporter": "python",
   "pygments_lexer": "ipython3",
   "version": "3.10.6"
  }
 },
 "nbformat": 4,
 "nbformat_minor": 5
}
